{
 "cells": [
  {
   "cell_type": "code",
   "execution_count": 8,
   "metadata": {},
   "outputs": [],
   "source": [
    "# PYTHON Example\n",
    "#https://cosmocode.io/how-to-connect-selenium-to-an-existing-browser-that-was-opened-manually/\n",
    "#chrome.exe --remote-debugging-port=9222 --user-data-dir=\"C:\\selenum\\ChromeProfile\"\n",
    "    "
   ]
  },
  {
   "cell_type": "code",
   "execution_count": 2,
   "metadata": {},
   "outputs": [],
   "source": [
    "from selenium.webdriver.chrome.options import Options\n",
    "from selenium import webdriver\n",
    "import numpy as np\n",
    "import pandas as pd\n",
    "from selenium import webdriver\n",
    "from selenium.webdriver.support.ui import WebDriverWait\n",
    "from selenium.webdriver.support import expected_conditions as EC\n",
    "from selenium.webdriver.common.by import By\n",
    "from selenium.common.exceptions import TimeoutException"
   ]
  },
  {
   "cell_type": "code",
   "execution_count": 21,
   "metadata": {},
   "outputs": [],
   "source": [
    "def get_balance(block_flat):\n",
    "    \n",
    "    xpath1='//*[@id=\"app\"]/div/div[4]/div[1]/div[2]/div/div/ul/li/div/div[3]'\n",
    "    xpath2='//*[@id=\"app\"]/div/div[4]/div[1]/div[1]/div/div[2]/div[2]/ul/li[4]/div[1]/div/div[2]/div[4]/div[2]'\n",
    "    xpath3='//*[@id=\"app\"]/div/div[4]/div[1]/div[1]/div/div[2]/div[2]/ul/li[3]/div[1]/input'\n",
    "    xpath4='//*[@id=\"app\"]/div/div[4]/div[1]/div[1]/div/div[2]/div[5]/button'\n",
    "    xpath5='//*[@id=\"app\"]/div/div[4]/div[1]/div[1]/div/div[2]/div[2]/ul/li[4]/div[1]/div/div[2]/div[4]/div[2]'\n",
    "\n",
    "    chrome_options = Options()\n",
    "    chrome_options.add_experimental_option(\"debuggerAddress\", \"127.0.0.1:9222\")\n",
    "    #Change chrome driver path accordingly\n",
    "    chrome_driver = \"C:\\\\Users\\\\ankur\\\\Downloads\\\\chromedriver_win32_\\chromedriver.exe\"\n",
    "    driver = webdriver.Chrome(chrome_driver, chrome_options=chrome_options)\n",
    "    driver.get(\"https://paytm.com/apartments-electricity-recharge\")\n",
    "    print(driver.title)\n",
    "    \n",
    "    delay = 20 # seconds\n",
    "    try:\n",
    "        myElem = WebDriverWait(driver, delay).until(EC.presence_of_element_located((By.XPATH, xpath1)))\n",
    "        \n",
    "        #CLICK\n",
    "        elem = driver.find_element_by_xpath(xpath1)\n",
    "        elem.click()\n",
    "        print('click on 20-005 done')\n",
    "        \n",
    "        #Get Balance\n",
    "        myElem = WebDriverWait(driver, delay).until(EC.presence_of_element_located((By.XPATH, xpath2)))\n",
    "        xyz = driver.find_element_by_xpath(xpath2)\n",
    "        print('20-005')\n",
    "        print('balance of 20-005 recieved')\n",
    "        \n",
    "        #STEP 1, Enter flat no\n",
    "        myElem = WebDriverWait(driver, delay).until(EC.presence_of_element_located((By.XPATH, xpath3)))\n",
    "        inputElement = driver.find_element_by_xpath(xpath3)\n",
    "        inputElement.clear()\n",
    "        inputElement.send_keys(block_flat)\n",
    "        print('entered the new flat in the text field')\n",
    "    \n",
    "        # STEP 2, Pressing Proceed\n",
    "        myElem = WebDriverWait(driver, delay).until(EC.presence_of_element_located((By.XPATH, xpath4)))\n",
    "        elem = driver.find_element_by_xpath(xpath4)\n",
    "        elem.click()\n",
    "        print('Proceed clicked')\n",
    "    \n",
    "        #STEP 3, Reading Balance\n",
    "        myElem = WebDriverWait(driver, delay).until(EC.presence_of_element_located((By.XPATH, xpath5)))\n",
    "        xyz = driver.find_element_by_xpath(xpath5)\n",
    "        balance=xyz.text\n",
    "        print('Reading Balance')\n",
    "        print(balance)\n",
    "    \n",
    "        print (\"Page is ready!\")\n",
    "        return balance\n",
    "\n",
    "    except TimeoutException:\n",
    "        print (\"Loading took too much time!\")\n",
    "    \n",
    "    \n",
    "    return -1"
   ]
  },
  {
   "cell_type": "code",
   "execution_count": 18,
   "metadata": {},
   "outputs": [],
   "source": [
    "df=pd.read_excel('C:\\\\Users\\\\ankur\\\\Desktop\\\\mhv.xlsx',sheet_name='Sheet1',dtype={'Flat': str})"
   ]
  },
  {
   "cell_type": "code",
   "execution_count": 19,
   "metadata": {},
   "outputs": [],
   "source": [
    "df['block_flat']=df['Block']+df['Flat'].astype(str)"
   ]
  },
  {
   "cell_type": "code",
   "execution_count": 25,
   "metadata": {},
   "outputs": [
    {
     "name": "stderr",
     "output_type": "stream",
     "text": [
      "c:\\users\\ankur\\appdata\\local\\programs\\python\\python37-32\\lib\\site-packages\\ipykernel_launcher.py:13: DeprecationWarning: use options instead of chrome_options\n",
      "  del sys.path[0]\n"
     ]
    },
    {
     "name": "stdout",
     "output_type": "stream",
     "text": [
      "Apartment Electricity Prepaid Meter Recharge or Bill Payment @Paytm.com\n",
      "click on 20-005 done\n",
      "Loading took too much time!\n"
     ]
    },
    {
     "data": {
      "text/plain": [
       "-1"
      ]
     },
     "execution_count": 25,
     "metadata": {},
     "output_type": "execute_result"
    }
   ],
   "source": [
    "get_balance('B20002')"
   ]
  },
  {
   "cell_type": "code",
   "execution_count": null,
   "metadata": {},
   "outputs": [
    {
     "name": "stdout",
     "output_type": "stream",
     "text": [
      "Getting balance for B20001\n"
     ]
    },
    {
     "name": "stderr",
     "output_type": "stream",
     "text": [
      "c:\\users\\ankur\\appdata\\local\\programs\\python\\python37-32\\lib\\site-packages\\ipykernel_launcher.py:13: DeprecationWarning: use options instead of chrome_options\n",
      "  del sys.path[0]\n"
     ]
    },
    {
     "name": "stdout",
     "output_type": "stream",
     "text": [
      "Apartment Electricity Prepaid Meter Recharge or Bill Payment @Paytm.com\n",
      "20-005\n",
      "422.7602\n",
      "Loading took too much time!\n",
      "Getting balance for B20002\n",
      "Apartment Electricity Prepaid Meter Recharge or Bill Payment @Paytm.com\n",
      "20-005\n",
      "422.7602\n",
      "Loading took too much time!\n",
      "Getting balance for B20003\n",
      "Apartment Electricity Prepaid Meter Recharge or Bill Payment @Paytm.com\n"
     ]
    },
    {
     "ename": "KeyboardInterrupt",
     "evalue": "",
     "output_type": "error",
     "traceback": [
      "\u001b[1;31m---------------------------------------------------------------------------\u001b[0m",
      "\u001b[1;31mKeyboardInterrupt\u001b[0m                         Traceback (most recent call last)",
      "\u001b[1;32m<ipython-input-91-04a8be129fa7>\u001b[0m in \u001b[0;36m<module>\u001b[1;34m\u001b[0m\n\u001b[0;32m      2\u001b[0m     \u001b[0mx\u001b[0m\u001b[1;33m=\u001b[0m\u001b[0mrow\u001b[0m\u001b[1;33m[\u001b[0m\u001b[1;34m'block_flat'\u001b[0m\u001b[1;33m]\u001b[0m\u001b[1;33m\u001b[0m\u001b[1;33m\u001b[0m\u001b[0m\n\u001b[0;32m      3\u001b[0m     \u001b[0mprint\u001b[0m\u001b[1;33m(\u001b[0m\u001b[1;34m'Getting balance for'\u001b[0m\u001b[1;33m,\u001b[0m\u001b[0mx\u001b[0m\u001b[1;33m)\u001b[0m\u001b[1;33m\u001b[0m\u001b[1;33m\u001b[0m\u001b[0m\n\u001b[1;32m----> 4\u001b[1;33m     \u001b[0mget_balance\u001b[0m\u001b[1;33m(\u001b[0m\u001b[0mx\u001b[0m\u001b[1;33m)\u001b[0m\u001b[1;33m\u001b[0m\u001b[1;33m\u001b[0m\u001b[0m\n\u001b[0m",
      "\u001b[1;32m<ipython-input-90-56201a1e71d2>\u001b[0m in \u001b[0;36mget_balance\u001b[1;34m(block_flat)\u001b[0m\n\u001b[0;32m     24\u001b[0m \u001b[1;33m\u001b[0m\u001b[0m\n\u001b[0;32m     25\u001b[0m         \u001b[1;31m#Get Balance\u001b[0m\u001b[1;33m\u001b[0m\u001b[1;33m\u001b[0m\u001b[1;33m\u001b[0m\u001b[0m\n\u001b[1;32m---> 26\u001b[1;33m         \u001b[0mmyElem\u001b[0m \u001b[1;33m=\u001b[0m \u001b[0mWebDriverWait\u001b[0m\u001b[1;33m(\u001b[0m\u001b[0mdriver\u001b[0m\u001b[1;33m,\u001b[0m \u001b[0mdelay\u001b[0m\u001b[1;33m)\u001b[0m\u001b[1;33m.\u001b[0m\u001b[0muntil\u001b[0m\u001b[1;33m(\u001b[0m\u001b[0mEC\u001b[0m\u001b[1;33m.\u001b[0m\u001b[0mpresence_of_element_located\u001b[0m\u001b[1;33m(\u001b[0m\u001b[1;33m(\u001b[0m\u001b[0mBy\u001b[0m\u001b[1;33m.\u001b[0m\u001b[0mXPATH\u001b[0m\u001b[1;33m,\u001b[0m \u001b[0mxpath2\u001b[0m\u001b[1;33m)\u001b[0m\u001b[1;33m)\u001b[0m\u001b[1;33m)\u001b[0m\u001b[1;33m\u001b[0m\u001b[1;33m\u001b[0m\u001b[0m\n\u001b[0m\u001b[0;32m     27\u001b[0m         \u001b[0mxyz\u001b[0m \u001b[1;33m=\u001b[0m \u001b[0mdriver\u001b[0m\u001b[1;33m.\u001b[0m\u001b[0mfind_element_by_xpath\u001b[0m\u001b[1;33m(\u001b[0m\u001b[0mxpath2\u001b[0m\u001b[1;33m)\u001b[0m\u001b[1;33m\u001b[0m\u001b[1;33m\u001b[0m\u001b[0m\n\u001b[0;32m     28\u001b[0m         \u001b[0mprint\u001b[0m\u001b[1;33m(\u001b[0m\u001b[1;34m'20-005'\u001b[0m\u001b[1;33m)\u001b[0m\u001b[1;33m\u001b[0m\u001b[1;33m\u001b[0m\u001b[0m\n",
      "\u001b[1;32mc:\\users\\ankur\\appdata\\local\\programs\\python\\python37-32\\lib\\site-packages\\selenium\\webdriver\\support\\wait.py\u001b[0m in \u001b[0;36muntil\u001b[1;34m(self, method, message)\u001b[0m\n\u001b[0;32m     75\u001b[0m                 \u001b[0mscreen\u001b[0m \u001b[1;33m=\u001b[0m \u001b[0mgetattr\u001b[0m\u001b[1;33m(\u001b[0m\u001b[0mexc\u001b[0m\u001b[1;33m,\u001b[0m \u001b[1;34m'screen'\u001b[0m\u001b[1;33m,\u001b[0m \u001b[1;32mNone\u001b[0m\u001b[1;33m)\u001b[0m\u001b[1;33m\u001b[0m\u001b[1;33m\u001b[0m\u001b[0m\n\u001b[0;32m     76\u001b[0m                 \u001b[0mstacktrace\u001b[0m \u001b[1;33m=\u001b[0m \u001b[0mgetattr\u001b[0m\u001b[1;33m(\u001b[0m\u001b[0mexc\u001b[0m\u001b[1;33m,\u001b[0m \u001b[1;34m'stacktrace'\u001b[0m\u001b[1;33m,\u001b[0m \u001b[1;32mNone\u001b[0m\u001b[1;33m)\u001b[0m\u001b[1;33m\u001b[0m\u001b[1;33m\u001b[0m\u001b[0m\n\u001b[1;32m---> 77\u001b[1;33m             \u001b[0mtime\u001b[0m\u001b[1;33m.\u001b[0m\u001b[0msleep\u001b[0m\u001b[1;33m(\u001b[0m\u001b[0mself\u001b[0m\u001b[1;33m.\u001b[0m\u001b[0m_poll\u001b[0m\u001b[1;33m)\u001b[0m\u001b[1;33m\u001b[0m\u001b[1;33m\u001b[0m\u001b[0m\n\u001b[0m\u001b[0;32m     78\u001b[0m             \u001b[1;32mif\u001b[0m \u001b[0mtime\u001b[0m\u001b[1;33m.\u001b[0m\u001b[0mtime\u001b[0m\u001b[1;33m(\u001b[0m\u001b[1;33m)\u001b[0m \u001b[1;33m>\u001b[0m \u001b[0mend_time\u001b[0m\u001b[1;33m:\u001b[0m\u001b[1;33m\u001b[0m\u001b[1;33m\u001b[0m\u001b[0m\n\u001b[0;32m     79\u001b[0m                 \u001b[1;32mbreak\u001b[0m\u001b[1;33m\u001b[0m\u001b[1;33m\u001b[0m\u001b[0m\n",
      "\u001b[1;31mKeyboardInterrupt\u001b[0m: "
     ]
    }
   ],
   "source": [
    "for index, row in df.iterrows():\n",
    "    x=row['block_flat']\n",
    "    print('Getting balance for',x)\n",
    "    get_balance(x)"
   ]
  }
 ],
 "metadata": {
  "kernelspec": {
   "display_name": "Python 3",
   "language": "python",
   "name": "python3"
  },
  "language_info": {
   "codemirror_mode": {
    "name": "ipython",
    "version": 3
   },
   "file_extension": ".py",
   "mimetype": "text/x-python",
   "name": "python",
   "nbconvert_exporter": "python",
   "pygments_lexer": "ipython3",
   "version": "3.7.3"
  }
 },
 "nbformat": 4,
 "nbformat_minor": 2
}
